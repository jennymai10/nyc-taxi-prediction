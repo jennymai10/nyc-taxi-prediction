{
 "cells": [
  {
   "cell_type": "markdown",
   "metadata": {},
   "source": [
    "# NYC Taxi Data: Log Transformation and Distribution Analysis\n",
    "\n",
    "This notebook focuses on applying log transformations to selected skewed features in the NYC taxi dataset. Log transformation is a common technique to reduce skewness in data, making it more suitable for modeling. We will also visualize the distributions of these transformed features.\n",
    "\n",
    "## Libraries and Initial Setup\n",
    "\n",
    "We start by importing the necessary libraries and initializing a Spark session."
   ]
  },
  {
   "cell_type": "code",
   "execution_count": 1,
   "metadata": {},
   "outputs": [],
   "source": [
    "from pyspark.sql import SparkSession\n",
    "from pyspark.sql.functions import log1p, col\n",
    "import matplotlib.pyplot as plt\n",
    "import seaborn as sns"
   ]
  },
  {
   "cell_type": "code",
   "execution_count": 1,
   "metadata": {},
   "outputs": [
    {
     "ename": "NameError",
     "evalue": "name 'SparkSession' is not defined",
     "output_type": "error",
     "traceback": [
      "\u001b[0;31m---------------------------------------------------------------------------\u001b[0m",
      "\u001b[0;31mNameError\u001b[0m                                 Traceback (most recent call last)",
      "Cell \u001b[0;32mIn[1], line 3\u001b[0m\n\u001b[1;32m      1\u001b[0m \u001b[38;5;66;03m# Initialize Spark Session\u001b[39;00m\n\u001b[1;32m      2\u001b[0m spark \u001b[38;5;241m=\u001b[39m (\n\u001b[0;32m----> 3\u001b[0m     \u001b[43mSparkSession\u001b[49m\u001b[38;5;241m.\u001b[39mbuilder\u001b[38;5;241m.\u001b[39mappName(\u001b[38;5;124m\"\u001b[39m\u001b[38;5;124mMAST30034 Project 1\u001b[39m\u001b[38;5;124m\"\u001b[39m)\n\u001b[1;32m      4\u001b[0m     \u001b[38;5;241m.\u001b[39mconfig(\u001b[38;5;124m\"\u001b[39m\u001b[38;5;124mspark.sql.repl.eagerEval.enabled\u001b[39m\u001b[38;5;124m\"\u001b[39m, \u001b[38;5;28;01mTrue\u001b[39;00m)  \u001b[38;5;66;03m# Enable eager evaluation for interactive querying\u001b[39;00m\n\u001b[1;32m      5\u001b[0m     \u001b[38;5;241m.\u001b[39mconfig(\u001b[38;5;124m\"\u001b[39m\u001b[38;5;124mspark.sql.parquet.cacheMetadata\u001b[39m\u001b[38;5;124m\"\u001b[39m, \u001b[38;5;124m\"\u001b[39m\u001b[38;5;124mtrue\u001b[39m\u001b[38;5;124m\"\u001b[39m)  \u001b[38;5;66;03m# Cache metadata for parquet files\u001b[39;00m\n\u001b[1;32m      6\u001b[0m     \u001b[38;5;241m.\u001b[39mconfig(\u001b[38;5;124m\"\u001b[39m\u001b[38;5;124mspark.sql.session.timeZone\u001b[39m\u001b[38;5;124m\"\u001b[39m, \u001b[38;5;124m\"\u001b[39m\u001b[38;5;124mEtc/UTC\u001b[39m\u001b[38;5;124m\"\u001b[39m)  \u001b[38;5;66;03m# Set the timezone to UTC\u001b[39;00m\n\u001b[1;32m      7\u001b[0m     \u001b[38;5;241m.\u001b[39mgetOrCreate()  \u001b[38;5;66;03m# Create or retrieve the existing Spark session\u001b[39;00m\n\u001b[1;32m      8\u001b[0m )\n",
      "\u001b[0;31mNameError\u001b[0m: name 'SparkSession' is not defined"
     ]
    }
   ],
   "source": [
    "# Initialize Spark Session\n",
    "spark = (\n",
    "    SparkSession.builder.appName(\"MAST30034 Project 1\")\n",
    "    .config(\"spark.sql.repl.eagerEval.enabled\", True)  # Enable eager evaluation for interactive querying\n",
    "    .config(\"spark.sql.parquet.cacheMetadata\", \"true\")  # Cache metadata for parquet files\n",
    "    .config(\"spark.sql.session.timeZone\", \"Etc/UTC\")  # Set the timezone to UTC\n",
    "    .getOrCreate()  # Create or retrieve the existing Spark session\n",
    ")"
   ]
  },
  {
   "cell_type": "markdown",
   "metadata": {},
   "source": [
    "## Load Data\n",
    "\n",
    "We load the cleaned taxi dataset from a Parquet file into a Spark DataFrame for further processing."
   ]
  },
  {
   "cell_type": "code",
   "execution_count": 3,
   "metadata": {},
   "outputs": [
    {
     "name": "stderr",
     "output_type": "stream",
     "text": [
      "                                                                                \r"
     ]
    }
   ],
   "source": [
    "# Load the cleaned taxi data from a Parquet file\n",
    "sdf = spark.read.parquet('/Users/jennymai/Desktop/data_sci/mast_project1/data/curated3')"
   ]
  },
  {
   "cell_type": "code",
   "execution_count": 4,
   "metadata": {},
   "outputs": [
    {
     "name": "stderr",
     "output_type": "stream",
     "text": [
      "24/08/23 14:08:18 WARN SparkStringUtils: Truncated the string representation of a plan since it was too large. This behavior can be adjusted by setting 'spark.sql.debug.maxToStringFields'.\n",
      "                                                                                \r"
     ]
    }
   ],
   "source": [
    "# Sample 1% of the data for quick testing when needed\n",
    "sdf_sampled = sdf.sample(0.01, seed=1003)\n",
    "df = sdf_sampled.toPandas()"
   ]
  },
  {
   "cell_type": "markdown",
   "metadata": {},
   "source": [
    "## Log Transformation of Skewed Features\n",
    "\n",
    "Log transformation is applied to selected skewed features (`tip_amount`, `trip_duration_mins`, `trip_distance`, `avg_temp`, `precipitation`) to reduce skewness and make the data more normally distributed. A small epsilon value is added to avoid taking the log of zero."
   ]
  },
  {
   "cell_type": "code",
   "execution_count": 7,
   "metadata": {},
   "outputs": [
    {
     "data": {
      "text/html": [
       "<table border='1'>\n",
       "<tr><th>VendorID</th><th>tpep_pickup_datetime</th><th>tpep_dropoff_datetime</th><th>passenger_count</th><th>trip_distance</th><th>RatecodeID</th><th>store_and_fwd_flag</th><th>PULocationID</th><th>DOLocationID</th><th>payment_type</th><th>fare_amount</th><th>extra</th><th>mta_tax</th><th>tip_amount</th><th>tolls_amount</th><th>improvement_surcharge</th><th>total_amount</th><th>congestion_surcharge</th><th>airport_fee</th><th>trip_duration_mins</th><th>pickup_hour</th><th>pickup_dayofweek</th><th>dropoff_hour</th><th>dropoff_dayofweek</th><th>days_since_2022_11_01</th><th>distance_time_interaction</th><th>is_airport_trip</th><th>is_tourist_trip</th><th>pickup_at_airport</th><th>dropoff_at_airport</th><th>pickup_at_tourist_attraction</th><th>dropoff_at_tourist_attraction</th><th>is_holiday_season</th><th>is_event_day</th><th>avg_temp</th><th>precipitation</th></tr>\n",
       "<tr><td>1</td><td>2022-11-01 01:57:31</td><td>2022-11-01 02:22:02</td><td>1.0</td><td>1.8245492936639491</td><td>1.0</td><td>0</td><td>114</td><td>50</td><td>1</td><td>20.0</td><td>3.0</td><td>0.5</td><td>1.9459101504838847</td><td>0.0</td><td>0.3</td><td>29.8</td><td>2.5</td><td>0.0</td><td>3.239331833827484</td><td>1</td><td>3</td><td>2</td><td>3</td><td>0</td><td>5.2</td><td>0</td><td>1</td><td>0</td><td>0</td><td>1</td><td>0</td><td>0</td><td>0</td><td>4.182050142793878</td><td>0.19062036787311248</td></tr>\n",
       "<tr><td>1</td><td>2022-11-01 07:36:49</td><td>2022-11-01 07:52:15</td><td>1.0</td><td>1.0296194207525868</td><td>1.0</td><td>0</td><td>141</td><td>43</td><td>2</td><td>11.5</td><td>2.5</td><td>0.5</td><td>9.999999950000001E-9</td><td>0.0</td><td>0.3</td><td>14.8</td><td>2.5</td><td>0.0</td><td>2.799311792989054</td><td>7</td><td>3</td><td>7</td><td>3</td><td>0</td><td>12.6</td><td>0</td><td>1</td><td>0</td><td>0</td><td>0</td><td>1</td><td>0</td><td>0</td><td>4.182050142793878</td><td>0.19062036787311248</td></tr>\n",
       "<tr><td>1</td><td>2022-11-01 10:44:22</td><td>2022-11-01 11:04:24</td><td>1.0</td><td>1.0296194207525868</td><td>1.0</td><td>0</td><td>229</td><td>137</td><td>1</td><td>13.0</td><td>2.5</td><td>0.5</td><td>1.6193882452674664</td><td>0.0</td><td>0.3</td><td>20.35</td><td>2.5</td><td>0.0</td><td>3.046108481354494</td><td>10</td><td>3</td><td>11</td><td>3</td><td>0</td><td>18.0</td><td>0</td><td>0</td><td>0</td><td>0</td><td>0</td><td>0</td><td>0</td><td>0</td><td>4.182050142793878</td><td>0.19062036787311248</td></tr>\n",
       "<tr><td>1</td><td>2022-11-01 13:20:22</td><td>2022-11-01 14:00:47</td><td>1.0</td><td>2.939161922594697</td><td>1.0</td><td>0</td><td>88</td><td>149</td><td>1</td><td>52.0</td><td>2.5</td><td>0.5</td><td>2.4890646607665396</td><td>0.0</td><td>0.3</td><td>66.35</td><td>2.5</td><td>0.0</td><td>3.723683376550077</td><td>13</td><td>3</td><td>14</td><td>3</td><td>0</td><td>232.7</td><td>0</td><td>0</td><td>0</td><td>0</td><td>0</td><td>0</td><td>0</td><td>0</td><td>4.182050142793878</td><td>0.19062036787311248</td></tr>\n",
       "<tr><td>1</td><td>2022-11-01 13:52:00</td><td>2022-11-01 14:07:41</td><td>1.0</td><td>0.6418538914355527</td><td>1.0</td><td>0</td><td>48</td><td>186</td><td>1</td><td>10.0</td><td>2.5</td><td>0.5</td><td>1.294727170334126</td><td>0.0</td><td>0.3</td><td>15.95</td><td>2.5</td><td>0.0</td><td>2.8144102176925205</td><td>13</td><td>3</td><td>14</td><td>3</td><td>0</td><td>11.700000000000001</td><td>0</td><td>0</td><td>0</td><td>0</td><td>0</td><td>0</td><td>0</td><td>0</td><td>4.182050142793878</td><td>0.19062036787311248</td></tr>\n",
       "<tr><td>1</td><td>2022-11-01 14:28:54</td><td>2022-11-01 14:47:07</td><td>1.0</td><td>0.916290735874155</td><td>1.0</td><td>0</td><td>229</td><td>263</td><td>1</td><td>12.0</td><td>2.5</td><td>0.5</td><td>1.4011829760766954</td><td>0.0</td><td>0.3</td><td>18.36</td><td>2.5</td><td>0.0</td><td>2.95577795856734</td><td>14</td><td>3</td><td>14</td><td>3</td><td>0</td><td>21.0</td><td>0</td><td>0</td><td>0</td><td>0</td><td>0</td><td>0</td><td>0</td><td>0</td><td>4.182050142793878</td><td>0.19062036787311248</td></tr>\n",
       "<tr><td>1</td><td>2022-11-01 15:19:05</td><td>2022-11-01 15:50:06</td><td>1.0</td><td>1.7917594708947218</td><td>1.0</td><td>0</td><td>230</td><td>13</td><td>3</td><td>21.0</td><td>2.5</td><td>0.5</td><td>9.999999950000001E-9</td><td>0.0</td><td>0.3</td><td>24.3</td><td>2.5</td><td>0.0</td><td>3.4662566008587934</td><td>15</td><td>3</td><td>15</td><td>3</td><td>0</td><td>75.0</td><td>0</td><td>1</td><td>0</td><td>0</td><td>1</td><td>1</td><td>0</td><td>0</td><td>4.182050142793878</td><td>0.19062036787311248</td></tr>\n",
       "<tr><td>1</td><td>2022-11-01 16:08:35</td><td>2022-11-01 16:21:51</td><td>1.0</td><td>1.0647107404407041</td><td>1.0</td><td>0</td><td>142</td><td>246</td><td>1</td><td>10.5</td><td>3.5</td><td>0.5</td><td>1.3762440277916417</td><td>0.0</td><td>0.3</td><td>17.76</td><td>2.5</td><td>0.0</td><td>2.657925814620576</td><td>16</td><td>3</td><td>16</td><td>3</td><td>0</td><td>30.4</td><td>0</td><td>0</td><td>0</td><td>0</td><td>0</td><td>0</td><td>0</td><td>0</td><td>4.182050142793878</td><td>0.19062036787311248</td></tr>\n",
       "<tr><td>1</td><td>2022-11-01 17:57:37</td><td>2022-11-01 18:08:45</td><td>1.0</td><td>0.8754687415205665</td><td>1.0</td><td>0</td><td>233</td><td>79</td><td>1</td><td>8.5</td><td>3.5</td><td>0.5</td><td>1.2669476063042258</td><td>0.0</td><td>0.3</td><td>15.35</td><td>2.5</td><td>0.0</td><td>2.495956486798761</td><td>17</td><td>3</td><td>18</td><td>3</td><td>0</td><td>23.799999999999997</td><td>0</td><td>0</td><td>0</td><td>0</td><td>0</td><td>0</td><td>0</td><td>0</td><td>4.182050142793878</td><td>0.19062036787311248</td></tr>\n",
       "<tr><td>1</td><td>2022-11-01 18:16:59</td><td>2022-11-01 18:49:08</td><td>1.0</td><td>1.6292405416910642</td><td>1.0</td><td>0</td><td>230</td><td>148</td><td>1</td><td>20.5</td><td>3.5</td><td>0.5</td><td>1.9740810274108984</td><td>0.0</td><td>0.3</td><td>31.0</td><td>2.5</td><td>0.0</td><td>3.5010427169335308</td><td>18</td><td>3</td><td>18</td><td>3</td><td>0</td><td>73.8</td><td>0</td><td>1</td><td>0</td><td>0</td><td>1</td><td>0</td><td>0</td><td>0</td><td>4.182050142793878</td><td>0.19062036787311248</td></tr>\n",
       "<tr><td>1</td><td>2022-11-01 19:34:46</td><td>2022-11-01 19:44:20</td><td>1.0</td><td>0.993251776713987</td><td>1.0</td><td>0</td><td>140</td><td>163</td><td>1</td><td>8.5</td><td>3.5</td><td>0.5</td><td>0.916290735874155</td><td>0.0</td><td>0.3</td><td>14.3</td><td>2.5</td><td>0.0</td><td>2.3577043931614976</td><td>19</td><td>3</td><td>19</td><td>3</td><td>0</td><td>32.3</td><td>0</td><td>1</td><td>0</td><td>0</td><td>0</td><td>1</td><td>0</td><td>0</td><td>4.182050142793878</td><td>0.19062036787311248</td></tr>\n",
       "<tr><td>1</td><td>2022-11-01 21:59:38</td><td>2022-11-01 22:11:52</td><td>2.0</td><td>0.8754687415205665</td><td>1.0</td><td>0</td><td>230</td><td>237</td><td>1</td><td>9.5</td><td>3.0</td><td>0.5</td><td>0.6931471855599453</td><td>0.0</td><td>0.3</td><td>14.3</td><td>2.5</td><td>0.0</td><td>2.5827388997807024</td><td>21</td><td>3</td><td>22</td><td>3</td><td>0</td><td>29.4</td><td>0</td><td>1</td><td>0</td><td>0</td><td>1</td><td>0</td><td>0</td><td>0</td><td>4.182050142793878</td><td>0.19062036787311248</td></tr>\n",
       "<tr><td>1</td><td>2022-11-02 02:46:12</td><td>2022-11-02 02:59:26</td><td>1.0</td><td>1.6094379144341004</td><td>1.0</td><td>0</td><td>230</td><td>7</td><td>1</td><td>14.0</td><td>3.0</td><td>0.5</td><td>1.098612292001443</td><td>0.0</td><td>0.3</td><td>19.8</td><td>2.5</td><td>0.0</td><td>2.655586632269045</td><td>2</td><td>4</td><td>2</td><td>4</td><td>1</td><td>8.0</td><td>0</td><td>1</td><td>0</td><td>0</td><td>1</td><td>0</td><td>0</td><td>0</td><td>4.127134385206382</td><td>9.999999950000001E-9</td></tr>\n",
       "<tr><td>1</td><td>2022-11-02 07:42:43</td><td>2022-11-02 07:51:59</td><td>1.0</td><td>0.6931471855599453</td><td>1.0</td><td>0</td><td>186</td><td>107</td><td>1</td><td>7.5</td><td>2.5</td><td>0.5</td><td>1.1474024560121447</td><td>0.0</td><td>0.3</td><td>12.95</td><td>2.5</td><td>0.0</td><td>2.328902402285445</td><td>7</td><td>4</td><td>7</td><td>4</td><td>1</td><td>7.0</td><td>0</td><td>0</td><td>0</td><td>0</td><td>0</td><td>0</td><td>0</td><td>0</td><td>4.127134385206382</td><td>9.999999950000001E-9</td></tr>\n",
       "<tr><td>1</td><td>2022-11-02 10:00:07</td><td>2022-11-02 10:19:30</td><td>1.0</td><td>1.5260563056689624</td><td>1.0</td><td>0</td><td>24</td><td>140</td><td>1</td><td>15.5</td><td>2.5</td><td>0.5</td><td>1.558144620151813</td><td>0.0</td><td>0.3</td><td>22.55</td><td>2.5</td><td>0.0</td><td>3.0147175739556684</td><td>10</td><td>4</td><td>10</td><td>4</td><td>1</td><td>36.0</td><td>0</td><td>0</td><td>0</td><td>0</td><td>0</td><td>0</td><td>0</td><td>0</td><td>4.127134385206382</td><td>9.999999950000001E-9</td></tr>\n",
       "</table>\n"
      ],
      "text/plain": [
       "+--------+--------------------+---------------------+---------------+------------------+----------+------------------+------------+------------+------------+-----------+-----+-------+--------------------+------------+---------------------+------------+--------------------+-----------+------------------+-----------+----------------+------------+-----------------+---------------------+-------------------------+---------------+---------------+-----------------+------------------+----------------------------+-----------------------------+-----------------+------------+-----------------+--------------------+\n",
       "|VendorID|tpep_pickup_datetime|tpep_dropoff_datetime|passenger_count|     trip_distance|RatecodeID|store_and_fwd_flag|PULocationID|DOLocationID|payment_type|fare_amount|extra|mta_tax|          tip_amount|tolls_amount|improvement_surcharge|total_amount|congestion_surcharge|airport_fee|trip_duration_mins|pickup_hour|pickup_dayofweek|dropoff_hour|dropoff_dayofweek|days_since_2022_11_01|distance_time_interaction|is_airport_trip|is_tourist_trip|pickup_at_airport|dropoff_at_airport|pickup_at_tourist_attraction|dropoff_at_tourist_attraction|is_holiday_season|is_event_day|         avg_temp|       precipitation|\n",
       "+--------+--------------------+---------------------+---------------+------------------+----------+------------------+------------+------------+------------+-----------+-----+-------+--------------------+------------+---------------------+------------+--------------------+-----------+------------------+-----------+----------------+------------+-----------------+---------------------+-------------------------+---------------+---------------+-----------------+------------------+----------------------------+-----------------------------+-----------------+------------+-----------------+--------------------+\n",
       "|       1| 2022-11-01 01:57:31|  2022-11-01 02:22:02|            1.0|1.8245492936639491|       1.0|                 0|         114|          50|           1|       20.0|  3.0|    0.5|  1.9459101504838847|         0.0|                  0.3|        29.8|                 2.5|        0.0| 3.239331833827484|          1|               3|           2|                3|                    0|                      5.2|              0|              1|                0|                 0|                           1|                            0|                0|           0|4.182050142793878| 0.19062036787311248|\n",
       "|       1| 2022-11-01 07:36:49|  2022-11-01 07:52:15|            1.0|1.0296194207525868|       1.0|                 0|         141|          43|           2|       11.5|  2.5|    0.5|9.999999950000001E-9|         0.0|                  0.3|        14.8|                 2.5|        0.0| 2.799311792989054|          7|               3|           7|                3|                    0|                     12.6|              0|              1|                0|                 0|                           0|                            1|                0|           0|4.182050142793878| 0.19062036787311248|\n",
       "|       1| 2022-11-01 10:44:22|  2022-11-01 11:04:24|            1.0|1.0296194207525868|       1.0|                 0|         229|         137|           1|       13.0|  2.5|    0.5|  1.6193882452674664|         0.0|                  0.3|       20.35|                 2.5|        0.0| 3.046108481354494|         10|               3|          11|                3|                    0|                     18.0|              0|              0|                0|                 0|                           0|                            0|                0|           0|4.182050142793878| 0.19062036787311248|\n",
       "|       1| 2022-11-01 13:20:22|  2022-11-01 14:00:47|            1.0| 2.939161922594697|       1.0|                 0|          88|         149|           1|       52.0|  2.5|    0.5|  2.4890646607665396|         0.0|                  0.3|       66.35|                 2.5|        0.0| 3.723683376550077|         13|               3|          14|                3|                    0|                    232.7|              0|              0|                0|                 0|                           0|                            0|                0|           0|4.182050142793878| 0.19062036787311248|\n",
       "|       1| 2022-11-01 13:52:00|  2022-11-01 14:07:41|            1.0|0.6418538914355527|       1.0|                 0|          48|         186|           1|       10.0|  2.5|    0.5|   1.294727170334126|         0.0|                  0.3|       15.95|                 2.5|        0.0|2.8144102176925205|         13|               3|          14|                3|                    0|       11.700000000000001|              0|              0|                0|                 0|                           0|                            0|                0|           0|4.182050142793878| 0.19062036787311248|\n",
       "|       1| 2022-11-01 14:28:54|  2022-11-01 14:47:07|            1.0| 0.916290735874155|       1.0|                 0|         229|         263|           1|       12.0|  2.5|    0.5|  1.4011829760766954|         0.0|                  0.3|       18.36|                 2.5|        0.0|  2.95577795856734|         14|               3|          14|                3|                    0|                     21.0|              0|              0|                0|                 0|                           0|                            0|                0|           0|4.182050142793878| 0.19062036787311248|\n",
       "|       1| 2022-11-01 15:19:05|  2022-11-01 15:50:06|            1.0|1.7917594708947218|       1.0|                 0|         230|          13|           3|       21.0|  2.5|    0.5|9.999999950000001E-9|         0.0|                  0.3|        24.3|                 2.5|        0.0|3.4662566008587934|         15|               3|          15|                3|                    0|                     75.0|              0|              1|                0|                 0|                           1|                            1|                0|           0|4.182050142793878| 0.19062036787311248|\n",
       "|       1| 2022-11-01 16:08:35|  2022-11-01 16:21:51|            1.0|1.0647107404407041|       1.0|                 0|         142|         246|           1|       10.5|  3.5|    0.5|  1.3762440277916417|         0.0|                  0.3|       17.76|                 2.5|        0.0| 2.657925814620576|         16|               3|          16|                3|                    0|                     30.4|              0|              0|                0|                 0|                           0|                            0|                0|           0|4.182050142793878| 0.19062036787311248|\n",
       "|       1| 2022-11-01 17:57:37|  2022-11-01 18:08:45|            1.0|0.8754687415205665|       1.0|                 0|         233|          79|           1|        8.5|  3.5|    0.5|  1.2669476063042258|         0.0|                  0.3|       15.35|                 2.5|        0.0| 2.495956486798761|         17|               3|          18|                3|                    0|       23.799999999999997|              0|              0|                0|                 0|                           0|                            0|                0|           0|4.182050142793878| 0.19062036787311248|\n",
       "|       1| 2022-11-01 18:16:59|  2022-11-01 18:49:08|            1.0|1.6292405416910642|       1.0|                 0|         230|         148|           1|       20.5|  3.5|    0.5|  1.9740810274108984|         0.0|                  0.3|        31.0|                 2.5|        0.0|3.5010427169335308|         18|               3|          18|                3|                    0|                     73.8|              0|              1|                0|                 0|                           1|                            0|                0|           0|4.182050142793878| 0.19062036787311248|\n",
       "|       1| 2022-11-01 19:34:46|  2022-11-01 19:44:20|            1.0| 0.993251776713987|       1.0|                 0|         140|         163|           1|        8.5|  3.5|    0.5|   0.916290735874155|         0.0|                  0.3|        14.3|                 2.5|        0.0|2.3577043931614976|         19|               3|          19|                3|                    0|                     32.3|              0|              1|                0|                 0|                           0|                            1|                0|           0|4.182050142793878| 0.19062036787311248|\n",
       "|       1| 2022-11-01 21:59:38|  2022-11-01 22:11:52|            2.0|0.8754687415205665|       1.0|                 0|         230|         237|           1|        9.5|  3.0|    0.5|  0.6931471855599453|         0.0|                  0.3|        14.3|                 2.5|        0.0|2.5827388997807024|         21|               3|          22|                3|                    0|                     29.4|              0|              1|                0|                 0|                           1|                            0|                0|           0|4.182050142793878| 0.19062036787311248|\n",
       "|       1| 2022-11-02 02:46:12|  2022-11-02 02:59:26|            1.0|1.6094379144341004|       1.0|                 0|         230|           7|           1|       14.0|  3.0|    0.5|   1.098612292001443|         0.0|                  0.3|        19.8|                 2.5|        0.0| 2.655586632269045|          2|               4|           2|                4|                    1|                      8.0|              0|              1|                0|                 0|                           1|                            0|                0|           0|4.127134385206382|9.999999950000001E-9|\n",
       "|       1| 2022-11-02 07:42:43|  2022-11-02 07:51:59|            1.0|0.6931471855599453|       1.0|                 0|         186|         107|           1|        7.5|  2.5|    0.5|  1.1474024560121447|         0.0|                  0.3|       12.95|                 2.5|        0.0| 2.328902402285445|          7|               4|           7|                4|                    1|                      7.0|              0|              0|                0|                 0|                           0|                            0|                0|           0|4.127134385206382|9.999999950000001E-9|\n",
       "|       1| 2022-11-02 10:00:07|  2022-11-02 10:19:30|            1.0|1.5260563056689624|       1.0|                 0|          24|         140|           1|       15.5|  2.5|    0.5|   1.558144620151813|         0.0|                  0.3|       22.55|                 2.5|        0.0|3.0147175739556684|         10|               4|          10|                4|                    1|                     36.0|              0|              0|                0|                 0|                           0|                            0|                0|           0|4.127134385206382|9.999999950000001E-9|\n",
       "+--------+--------------------+---------------------+---------------+------------------+----------+------------------+------------+------------+------------+-----------+-----+-------+--------------------+------------+---------------------+------------+--------------------+-----------+------------------+-----------+----------------+------------+-----------------+---------------------+-------------------------+---------------+---------------+-----------------+------------------+----------------------------+-----------------------------+-----------------+------------+-----------------+--------------------+"
      ]
     },
     "execution_count": 7,
     "metadata": {},
     "output_type": "execute_result"
    }
   ],
   "source": [
    "# Apply log transformation to skewed columns to reduce skewness\n",
    "epsilon = 1e-8  # Small constant to prevent log(0)\n",
    "sdf_transformed = sdf\n",
    "\n",
    "# List of columns to apply log transformation\n",
    "skewed_columns = ['tip_amount', 'trip_duration_mins', 'trip_distance', 'avg_temp', 'precipitation']\n",
    "\n",
    "# Apply log transformation to each skewed column\n",
    "for col_name in skewed_columns:\n",
    "    sdf_transformed = sdf_transformed.withColumn(col_name, log1p(col(col_name) + epsilon))\n",
    "\n",
    "# Display the first 15 rows of the transformed DataFrame\n",
    "sdf_transformed.limit(15).show()"
   ]
  },
  {
   "cell_type": "markdown",
   "metadata": {},
   "source": [
    "## Distribution of Log-Transformed Features\n",
    "\n",
    "We visualize the distribution of the log-transformed features to observe the effect of the transformation on reducing skewness."
   ]
  },
  {
   "cell_type": "code",
   "execution_count": 2,
   "metadata": {},
   "outputs": [
    {
     "ename": "NameError",
     "evalue": "name 'sns' is not defined",
     "output_type": "error",
     "traceback": [
      "\u001b[0;31m---------------------------------------------------------------------------\u001b[0m",
      "\u001b[0;31mNameError\u001b[0m                                 Traceback (most recent call last)",
      "Cell \u001b[0;32mIn[2], line 6\u001b[0m\n\u001b[1;32m      4\u001b[0m \u001b[38;5;66;03m# Plot histograms with KDE for each log-transformed feature\u001b[39;00m\n\u001b[1;32m      5\u001b[0m \u001b[38;5;28;01mfor\u001b[39;00m col_name \u001b[38;5;129;01min\u001b[39;00m columns_to_plot:\n\u001b[0;32m----> 6\u001b[0m     \u001b[43msns\u001b[49m\u001b[38;5;241m.\u001b[39mhistplot(df[col_name], bins\u001b[38;5;241m=\u001b[39m\u001b[38;5;241m100\u001b[39m, kde\u001b[38;5;241m=\u001b[39m\u001b[38;5;28;01mTrue\u001b[39;00m, color\u001b[38;5;241m=\u001b[39m\u001b[38;5;124m'\u001b[39m\u001b[38;5;124msteelblue\u001b[39m\u001b[38;5;124m'\u001b[39m)\n\u001b[1;32m      7\u001b[0m     plt\u001b[38;5;241m.\u001b[39mtitle(\u001b[38;5;124mf\u001b[39m\u001b[38;5;124m'\u001b[39m\u001b[38;5;124mDistribution of \u001b[39m\u001b[38;5;132;01m{\u001b[39;00mcol_name\u001b[38;5;132;01m}\u001b[39;00m\u001b[38;5;124m (Log Transformed)\u001b[39m\u001b[38;5;124m'\u001b[39m)\n\u001b[1;32m      8\u001b[0m     plt\u001b[38;5;241m.\u001b[39mxlabel(col_name)\n",
      "\u001b[0;31mNameError\u001b[0m: name 'sns' is not defined"
     ]
    }
   ],
   "source": [
    "# List of columns to plot after log transformation\n",
    "columns_to_plot = ['tip_amount', 'trip_duration_mins', 'trip_distance', 'avg_temp', 'precipitation']\n",
    "\n",
    "# Plot histograms with KDE for each log-transformed feature\n",
    "for col_name in columns_to_plot:\n",
    "    sns.histplot(df[col_name], bins=100, kde=True, color='steelblue')\n",
    "    plt.title(f'Distribution of {col_name} (Log Transformed)')\n",
    "    plt.xlabel(col_name)\n",
    "    plt.ylabel('Frequency')\n",
    "    plt.show()"
   ]
  },
  {
   "cell_type": "markdown",
   "metadata": {},
   "source": [
    "## Saving Transformed Data\n",
    "\n",
    "We save the log-transformed DataFrame to a new Parquet file for further analysis or model development."
   ]
  },
  {
   "cell_type": "code",
   "execution_count": 10,
   "metadata": {},
   "outputs": [
    {
     "name": "stderr",
     "output_type": "stream",
     "text": [
      "                                                                                \r"
     ]
    }
   ],
   "source": [
    "# Save the log-transformed DataFrame to a new Parquet file\n",
    "sdf_transformed.write.parquet('/Users/jennymai/Desktop/data_sci/mast_project1/data/development', mode='overwrite')"
   ]
  },
  {
   "cell_type": "code",
   "execution_count": null,
   "metadata": {},
   "outputs": [],
   "source": []
  }
 ],
 "metadata": {
  "kernelspec": {
   "display_name": "Python 3",
   "language": "python",
   "name": "python3"
  },
  "language_info": {
   "codemirror_mode": {
    "name": "ipython",
    "version": 3
   },
   "file_extension": ".py",
   "mimetype": "text/x-python",
   "name": "python",
   "nbconvert_exporter": "python",
   "pygments_lexer": "ipython3",
   "version": "3.12.4"
  }
 },
 "nbformat": 4,
 "nbformat_minor": 2
}
